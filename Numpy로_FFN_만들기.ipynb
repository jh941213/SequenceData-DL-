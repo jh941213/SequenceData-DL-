{
  "cells": [
    {
      "cell_type": "markdown",
      "metadata": {
        "id": "view-in-github",
        "colab_type": "text"
      },
      "source": [
        "<a href=\"https://colab.research.google.com/github/jh941213/SequenceData-DL-/blob/main/Numpy%E1%84%85%E1%85%A9_FFN_%E1%84%86%E1%85%A1%E1%86%AB%E1%84%83%E1%85%B3%E1%86%AF%E1%84%80%E1%85%B5.ipynb\" target=\"_parent\"><img src=\"https://colab.research.google.com/assets/colab-badge.svg\" alt=\"Open In Colab\"/></a>"
      ]
    },
    {
      "cell_type": "code",
      "execution_count": 1,
      "metadata": {
        "id": "uw-xQ-hecwgt"
      },
      "outputs": [],
      "source": [
        "import numpy as np\n",
        "import pandas as pd"
      ]
    },
    {
      "cell_type": "code",
      "execution_count": 2,
      "metadata": {
        "id": "b2TOR7TQcwgv"
      },
      "outputs": [],
      "source": [
        "learning_rate = 0.001\n",
        "bias = 0.7\n",
        "epochs = 50\n",
        "final_epoch_loss = []"
      ]
    },
    {
      "cell_type": "code",
      "execution_count": 5,
      "metadata": {
        "id": "w0dgwQoZcwgv"
      },
      "outputs": [],
      "source": [
        "random_generator = np.random.default_rng()\n",
        "\n",
        "def generate_data(n_features, n_values):\n",
        "    weights = random_generator.random((1, n_values))[0] # 튜플의 첫번째 요소를 출력\n",
        "    features = random_generator.random((n_features, n_values)) # 피처 n_feature , n_values\n",
        "    targets = np.random.choice([0,1], n_features) # 이진문제이기 때문에 0과 1만 있으면 된다.\n",
        "    data = pd.DataFrame(features, columns=[\"n1\", \"n2\", \"n3\", \"n4\"])\n",
        "    data[\"target\"] = targets\n",
        "    return data, weights"
      ]
    },
    {
      "cell_type": "code",
      "execution_count": 6,
      "metadata": {
        "id": "k8ddzgaycwgw"
      },
      "outputs": [],
      "source": [
        "def get_weighted_sum(features, weights, bias): #가중합계를 위한 함수\n",
        "    return np.dot(features, weights) + bias # 특성 가중치와 바이어스를 전달 하고 있다. np.dot 행렬의 곱 피처와 가중치를 전달 편향"
      ]
    },
    {
      "cell_type": "code",
      "execution_count": 7,
      "metadata": {
        "id": "3VFxbtgIcwgw"
      },
      "outputs": [],
      "source": [
        "def sigmoid(x): #시그모이드 : 이진 분류 문제에서 0, 1로 출력하는 활성화 함수\n",
        "    return 1/(1+np.exp(-x)) # 1+e -z "
      ]
    },
    {
      "cell_type": "code",
      "execution_count": 8,
      "metadata": {
        "id": "FXCD-UY7cwgw"
      },
      "outputs": [],
      "source": [
        "def cross_entropy_loss(target, prediction): #loss\n",
        "    return -(target*np.log10(prediction) + (1-target)*np.log10(1-prediction))\n",
        "\n",
        "    # 왜 마이너스를 가지고 있을까? 로그가 발생하면 줄여야 하기 때문이다"
      ]
    },
    {
      "cell_type": "code",
      "execution_count": 9,
      "metadata": {
        "id": "UITE6ZUfcwgw"
      },
      "outputs": [],
      "source": [
        "def update_weights(weights, learning_rate, target, prediction, feature): #각 반복 후 loss bias 의 가중치를 업데이트한다.\n",
        "    new_weights = []\n",
        "    for input_x, old_weight in zip(feature, weights):\n",
        "        new_weight = old_weight + learning_rate*(target - prediction)*input_x\n",
        "        new_weights.append(new_weight)\n",
        "    return new_weights\n",
        "\n",
        "def update_bias(bias, learning_rate, target, prediction): # bias 도 업데이트 해준다\n",
        "    return bias + learning_rate*(target-prediction) #타겟 - 예측"
      ]
    },
    {
      "cell_type": "code",
      "execution_count": 10,
      "metadata": {
        "id": "K7IdUwbPcwgx"
      },
      "outputs": [],
      "source": [
        "data, weights = generate_data(500,4)\n",
        "\n",
        "def train_model(data, weights, bias, learning_rate, epochs):\n",
        "    for epoch in range(epochs):\n",
        "        individual_loss = []\n",
        "        for i in range(0, len(data)):\n",
        "            feature = data.loc[i][:-1]\n",
        "            # [\"n1\", \"n2\", \"n3\", \"n4\"] ... features\n",
        "            target = data.loc[i][-1] #.... \"target\"\n",
        "            w_sum = get_weighted_sum(features=feature, weights=weights, bias=bias)\n",
        "            prediction = sigmoid(w_sum)\n",
        "            loss = cross_entropy_loss(target, prediction)\n",
        "            individual_loss.append(loss)\n",
        "            weights = update_weights(weights, learning_rate, target, prediction, feature)\n",
        "            bias = update_bias(bias, learning_rate, target, prediction)\n",
        "        average_loss = sum(individual_loss)/len(individual_loss)\n",
        "        final_epoch_loss.append(average_loss)\n",
        "        print(f\"******************************** Epoch: {epoch} , Loss:  {average_loss}\")"
      ]
    },
    {
      "cell_type": "code",
      "source": [
        "weights"
      ],
      "metadata": {
        "colab": {
          "base_uri": "https://localhost:8080/"
        },
        "id": "YqD_4UNNk1Hq",
        "outputId": "9812bcf8-c696-433d-95c9-f5c8c0554c29"
      },
      "execution_count": 11,
      "outputs": [
        {
          "output_type": "execute_result",
          "data": {
            "text/plain": [
              "array([0.41162015, 0.54153735, 0.13558835, 0.82986385])"
            ]
          },
          "metadata": {},
          "execution_count": 11
        }
      ]
    },
    {
      "cell_type": "code",
      "execution_count": 12,
      "metadata": {
        "colab": {
          "base_uri": "https://localhost:8080/"
        },
        "id": "8xyEIr04cwgx",
        "outputId": "50fbedaf-0cce-493c-8838-6a828a3c7c63"
      },
      "outputs": [
        {
          "output_type": "stream",
          "name": "stdout",
          "text": [
            "******************************** Epoch: 0 , Loss:  0.42581056487035407\n",
            "******************************** Epoch: 1 , Loss:  0.38373838117170506\n",
            "******************************** Epoch: 2 , Loss:  0.35417432961748135\n",
            "******************************** Epoch: 3 , Loss:  0.3344180322284936\n",
            "******************************** Epoch: 4 , Loss:  0.3217036740243281\n",
            "******************************** Epoch: 5 , Loss:  0.3137279729888997\n",
            "******************************** Epoch: 6 , Loss:  0.3088028307209944\n",
            "******************************** Epoch: 7 , Loss:  0.30578616998501473\n",
            "******************************** Epoch: 8 , Loss:  0.30394257216128384\n",
            "******************************** Epoch: 9 , Loss:  0.3028124434233139\n",
            "******************************** Epoch: 10 , Loss:  0.3021136383762492\n",
            "******************************** Epoch: 11 , Loss:  0.3016747502154837\n",
            "******************************** Epoch: 12 , Loss:  0.30139227755299697\n",
            "******************************** Epoch: 13 , Loss:  0.30120394101560477\n",
            "******************************** Epoch: 14 , Loss:  0.30107234127152577\n",
            "******************************** Epoch: 15 , Loss:  0.30097504647003614\n",
            "******************************** Epoch: 16 , Loss:  0.3008986120787622\n",
            "******************************** Epoch: 17 , Loss:  0.3008349840178173\n",
            "******************************** Epoch: 18 , Loss:  0.30077933891980624\n",
            "******************************** Epoch: 19 , Loss:  0.300728788561777\n",
            "******************************** Epoch: 20 , Loss:  0.3006816031548312\n",
            "******************************** Epoch: 21 , Loss:  0.30063674590536227\n",
            "******************************** Epoch: 22 , Loss:  0.3005935942257634\n",
            "******************************** Epoch: 23 , Loss:  0.3005517728309954\n",
            "******************************** Epoch: 24 , Loss:  0.30051105388491073\n",
            "******************************** Epoch: 25 , Loss:  0.30047129731363376\n",
            "******************************** Epoch: 26 , Loss:  0.3004324151706456\n",
            "******************************** Epoch: 27 , Loss:  0.30039435039492274\n",
            "******************************** Epoch: 28 , Loss:  0.3003570641749847\n",
            "******************************** Epoch: 29 , Loss:  0.3003205284527948\n",
            "******************************** Epoch: 30 , Loss:  0.3002847214928279\n",
            "******************************** Epoch: 31 , Loss:  0.300249625275412\n",
            "******************************** Epoch: 32 , Loss:  0.30021522397294265\n",
            "******************************** Epoch: 33 , Loss:  0.30018150306662333\n",
            "******************************** Epoch: 34 , Loss:  0.30014844884030406\n",
            "******************************** Epoch: 35 , Loss:  0.3001160480949209\n",
            "******************************** Epoch: 36 , Loss:  0.30008428799088127\n",
            "******************************** Epoch: 37 , Loss:  0.30005315596377335\n",
            "******************************** Epoch: 38 , Loss:  0.3000226396813778\n",
            "******************************** Epoch: 39 , Loss:  0.2999927270233758\n",
            "******************************** Epoch: 40 , Loss:  0.2999634060730633\n",
            "******************************** Epoch: 41 , Loss:  0.299934665114997\n",
            "******************************** Epoch: 42 , Loss:  0.2999064926352451\n",
            "******************************** Epoch: 43 , Loss:  0.2998788773224414\n",
            "******************************** Epoch: 44 , Loss:  0.2998518080687471\n",
            "******************************** Epoch: 45 , Loss:  0.2998252739703207\n",
            "******************************** Epoch: 46 , Loss:  0.29979926432715087\n",
            "******************************** Epoch: 47 , Loss:  0.29977376864225375\n",
            "******************************** Epoch: 48 , Loss:  0.29974877662029564\n",
            "******************************** Epoch: 49 , Loss:  0.2997242781657358\n"
          ]
        }
      ],
      "source": [
        "train_model(data, weights, bias, learning_rate, epochs)"
      ]
    },
    {
      "cell_type": "code",
      "execution_count": null,
      "metadata": {
        "colab": {
          "base_uri": "https://localhost:8080/",
          "height": 265
        },
        "id": "BfQAgDqhcwgy",
        "outputId": "c194e4c4-ecfd-42c3-e4be-d56f8741605f"
      },
      "outputs": [
        {
          "output_type": "display_data",
          "data": {
            "text/plain": [
              "<Figure size 432x288 with 1 Axes>"
            ],
            "image/png": "[encoded data removed]"
          },
          "metadata": {
            "needs_background": "light"
          }
        }
      ],
      "source": [
        "df = pd.DataFrame(final_epoch_loss)\n",
        "df_plot = df.plot(kind=\"line\", grid=True).get_figure()"
      ]
    },
    {
      "cell_type": "code",
      "execution_count": null,
      "metadata": {
        "id": "vDkE35cecwgy"
      },
      "outputs": [],
      "source": []
    }
  ],
  "metadata": {
    "kernelspec": {
      "display_name": "Python 3.10.6 64-bit",
      "language": "python",
      "name": "python3"
    },
    "language_info": {
      "codemirror_mode": {
        "name": "ipython",
        "version": 3
      },
      "file_extension": ".py",
      "mimetype": "text/x-python",
      "name": "python",
      "nbconvert_exporter": "python",
      "pygments_lexer": "ipython3",
      "version": "3.10.6"
    },
    "orig_nbformat": 4,
    "vscode": {
      "interpreter": {
        "hash": "916dbcbb3f70747c44a77c7bcd40155683ae19c65e1c03b4aa3499c5328201f1"
      }
    },
    "colab": {
      "provenance": [],
      "include_colab_link": true
    }
  },
  "nbformat": 4,
  "nbformat_minor": 0
}