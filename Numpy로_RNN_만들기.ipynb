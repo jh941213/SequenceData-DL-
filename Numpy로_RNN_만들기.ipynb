{
  "nbformat": 4,
  "nbformat_minor": 0,
  "metadata": {
    "colab": {
      "provenance": [],
      "include_colab_link": true
    },
    "kernelspec": {
      "name": "python3",
      "display_name": "Python 3"
    },
    "language_info": {
      "name": "python"
    }
  },
  "cells": [
    {
      "cell_type": "markdown",
      "metadata": {
        "id": "view-in-github",
        "colab_type": "text"
      },
      "source": [
        "<a href=\"https://colab.research.google.com/github/jh941213/SequenceData-DL-/blob/main/Numpy%E1%84%85%E1%85%A9_RNN_%E1%84%86%E1%85%A1%E1%86%AB%E1%84%83%E1%85%B3%E1%86%AF%E1%84%80%E1%85%B5.ipynb\" target=\"_parent\"><img src=\"https://colab.research.google.com/assets/colab-badge.svg\" alt=\"Open In Colab\"/></a>"
      ]
    },
    {
      "cell_type": "code",
      "source": [
        "import numpy as np"
      ],
      "metadata": {
        "id": "17CRLQMoBL73"
      },
      "execution_count": 1,
      "outputs": []
    },
    {
      "cell_type": "code",
      "source": [
        "random_generator = np.random.default_rng() # data set\n",
        "\n",
        "def generate_data(n_features, n_values): #피처맵과 벨류) n_values = 데이터의 피처수, 열의 수\n",
        "    features = random_generator.random((n_features, n_values)) \n",
        "    targets = random_generator.random((n_features)) # 타겟 생성\n",
        "    return features, targets # 피처와 타겟을 반환\n",
        "    #target = np.random.choice([0,1]) #이진분류를 위한"
      ],
      "metadata": {
        "id": "Nc17rwgEQAgw"
      },
      "execution_count": 4,
      "outputs": []
    },
    {
      "cell_type": "code",
      "source": [
        "trainX, trainY = generate_data(5000, 4) # 5000개의 행과 4개의 열\n",
        "testX, testY = generate_data(5, 4)"
      ],
      "metadata": {
        "id": "uFQjrKx_Du7C"
      },
      "execution_count": 21,
      "outputs": []
    },
    {
      "cell_type": "markdown",
      "source": [],
      "metadata": {
        "id": "ptd78vmzBdtS"
      }
    },
    {
      "cell_type": "code",
      "source": [
        "trainX.shape"
      ],
      "metadata": {
        "colab": {
          "base_uri": "https://localhost:8080/"
        },
        "id": "ahbwpzHmm1ZZ",
        "outputId": "80934a8f-3445-4514-a1a4-0237a1867e20"
      },
      "execution_count": 22,
      "outputs": [
        {
          "output_type": "execute_result",
          "data": {
            "text/plain": [
              "(5000, 4)"
            ]
          },
          "metadata": {},
          "execution_count": 22
        }
      ]
    },
    {
      "cell_type": "code",
      "source": [
        "trainY.shape"
      ],
      "metadata": {
        "colab": {
          "base_uri": "https://localhost:8080/"
        },
        "id": "NnAq89Lxm3LJ",
        "outputId": "3f9dfaaf-be3f-46b0-bb70-1dbe10fcceff"
      },
      "execution_count": 16,
      "outputs": [
        {
          "output_type": "execute_result",
          "data": {
            "text/plain": [
              "(500,)"
            ]
          },
          "metadata": {},
          "execution_count": 16
        }
      ]
    },
    {
      "cell_type": "code",
      "execution_count": 23,
      "metadata": {
        "id": "2fdyt1z7BGYp"
      },
      "outputs": [],
      "source": [
        "class RNN:\n",
        "    def __init__(self): # 모든 변수를 초기화 \n",
        "        self.global_weight = [1, 1] # [Input, Recurrent Weight]\n",
        "        self.local_weight = [0.001, 0.001] #0.0001에 왜 2개일까 입력이 2개 기 때문이다 이전시점 t, x\n",
        "        self.W_sign = [0, 0] # 부정적인 예측의 경우 순환 신경망의 벌 \n",
        "\n",
        "        self.eta_p = 1.2 # 예상시간을 찾는데 사용된다 eta_P, eta_n\n",
        "        self.eta_n = 0.5\n",
        "# x, state 를 수신하는 역할을 해준다.\n",
        "    def state_handler(self, input_x, previous_state):\n",
        "        return input_x * self.global_weight[0] + previous_state * self.global_weight[1]\n",
        "\n",
        "#순방향 전파 : 신경망 하나가 신경망 끝으로 가는 그과정이다\n",
        "    def forward_propagation(self, X):\n",
        "      # Computes the forward propagation of the RNN.\n",
        "      S = np.zeros((X.shape[0], X.shape[1]+1))\n",
        "      for k in range(0, X.shape[1]):\n",
        "          next_state = self.state_handler(X[:,k], S[:,k]) #실제 입력 마지막 state입력과 + state 를 결합\n",
        "          S[:,k+1] = next_state\n",
        "      return S\n",
        "#역방향\n",
        "    def backward_propagation(self, X, S, grad_out):\n",
        "      # Computes the backward propagation of the RNN.\n",
        "        grad_over_time = np.zeros(( X.shape[0], X.shape[1]+1 ))\n",
        "        grad_over_time[:,-1] = grad_out\n",
        "\n",
        "        wx_grad = 0\n",
        "        wy_grad = 0\n",
        "        for k in range(X.shape[1], 0, -1):\n",
        "            wx_grad += np.sum( grad_over_time[:, k] * X[:, k-1] ) # 2차원의 데이터의 경우 wx, wy를 변경해야 한다\n",
        "            wy_grad += np.sum( grad_over_time[:, k] * S[:, k-1] )\n",
        "\n",
        "            grad_over_time[:, k-1] = grad_over_time[:, k] * self.global_weight[1]\n",
        "        return (wx_grad, wy_grad), grad_over_time\n",
        "#업데이트 함수 : 앞으로 함수를 호출한 다음 뒤로 함수를 호출한다.(grad_out 손실)\n",
        "    def update_rprop(self, X, Y, W_prev_sign, local_weight):\n",
        "        S = self.forward_propagation(X)\n",
        "        grad_out = 2 * (S[:, -1] - Y) / 500\n",
        "        W_grads, _ = self.backward_propagation(X, S, grad_out)\n",
        "        self.W_sign = np.sign(W_grads) # 기울기를 반전하는 데 사용 모델을 좀더 빠르게\n",
        "        # 글로벌 가중치\n",
        "        for i, _ in enumerate(self.global_weight):\n",
        "            if self.W_sign[i] == W_prev_sign[i]: #글로벌 가중치와 w.sign 이 같다면 eta_n을 변경해야한다.\n",
        "                local_weight[i] *= self.eta_p\n",
        "            else:\n",
        "                local_weight[i] *= self.eta_n\n",
        "        self.local_weight = local_weight\n",
        "#최종함수로 x, y epochs d에 전달 , 에폭을 반복해주고 \n",
        "    def train(self, X, Y, training_epochs):\n",
        "        for epochs in range(training_epochs):\n",
        "            self.update_rprop(X, Y, self.W_sign, self.local_weight)\n",
        "\n",
        "            for i, _ in enumerate(self.global_weight):\n",
        "                self.global_weight[i] -= self.W_sign[i] * self.local_weight[i]"
      ]
    },
    {
      "cell_type": "code",
      "source": [
        "rnn = RNN()\n",
        "rnn.train(trainX, trainY, 200)\n",
        "\n",
        "print (f\"Targets are: {testY}\")\n",
        "y = rnn.forward_propagation(testX)[:, -1]\n",
        "print (f\"Predicted are: {y}\")"
      ],
      "metadata": {
        "id": "ZhrUvTW7BXKX",
        "colab": {
          "base_uri": "https://localhost:8080/"
        },
        "outputId": "b8bb68e8-ab4e-40b8-8bba-99d0bd46bdea"
      },
      "execution_count": 24,
      "outputs": [
        {
          "output_type": "stream",
          "name": "stdout",
          "text": [
            "Targets are: [0.93336367 0.15346702 0.74083594 0.58666673 0.25704375]\n",
            "Predicted are: [0.44817772 0.4723367  0.76989868 0.33150121 0.56443057]\n"
          ]
        }
      ]
    },
    {
      "cell_type": "code",
      "source": [],
      "metadata": {
        "id": "pTVMYiVKE4Th"
      },
      "execution_count": null,
      "outputs": []
    }
  ]
}